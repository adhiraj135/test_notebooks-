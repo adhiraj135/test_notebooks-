{
  "nbformat": 4,
  "nbformat_minor": 0,
  "metadata": {
    "colab": {
      "provenance": [],
      "gpuType": "T4"
    },
    "kernelspec": {
      "name": "python3",
      "display_name": "Python 3"
    },
    "language_info": {
      "name": "python"
    },
    "accelerator": "GPU"
  },
  "cells": [
    {
      "cell_type": "code",
      "execution_count": 1,
      "metadata": {
        "id": "5qcpTmqoLCCj"
      },
      "outputs": [],
      "source": [
        "import cv2\n",
        "import numpy as np\n",
        "import math\n",
        "import pandas as pd\n",
        "import codecs\n",
        "import tensorflow as tf\n",
        "from tensorflow import keras\n",
        "from keras.preprocessing.sequence import pad_sequences"
      ]
    },
    {
      "cell_type": "code",
      "source": [
        "import os\n",
        "os.chdir(\"/content/drive/MyDrive/Doctors_Handwritting_Reccgnition_Model_Test/\")"
      ],
      "metadata": {
        "id": "TltRI4tEMGnH"
      },
      "execution_count": 2,
      "outputs": []
    },
    {
      "cell_type": "code",
      "source": [
        "window_height=64\n",
        "window_width=64\n",
        "window_shift=window_width-2\n",
        "MPoolLayers_H=2\n",
        "strides=4"
      ],
      "metadata": {
        "id": "VouaMPpTLnXa"
      },
      "execution_count": 3,
      "outputs": []
    },
    {
      "cell_type": "code",
      "source": [
        "data = []\n",
        "\n",
        "with open('Data/class.txt', 'r') as file:\n",
        "    for line in file:\n",
        "        data.append(line.split(\"\\n\")[0])"
      ],
      "metadata": {
        "id": "73K7orLlL4J8"
      },
      "execution_count": 4,
      "outputs": []
    },
    {
      "cell_type": "code",
      "source": [
        "print(data)"
      ],
      "metadata": {
        "colab": {
          "base_uri": "https://localhost:8080/"
        },
        "id": "FnrmEOUBPcDq",
        "outputId": "51e96ccc-ddbc-4458-8481-9d34a9d53606"
      },
      "execution_count": 5,
      "outputs": [
        {
          "output_type": "stream",
          "name": "stdout",
          "text": [
            "['<SPACE>', '<UNK>', '!', '\"', '#', '$', '%', '&', \"'\", '(', ')', '*', '+', ',', '-', '.', '/', '0', '1', '2', '3', '4', '5', '6', '7', '8', '9', ':', ';', '=', '>', '?', 'A', 'B', 'C', 'D', 'E', 'F', 'G', 'H', 'I', 'J', 'K', 'L', 'M', 'N', 'O', 'P', 'Q', 'R', 'S', 'T', 'U', 'V', 'W', 'X', 'Y', 'Z', '[', ']', '_', '`', 'a', 'b', 'c', 'd', 'e', 'f', 'g', 'h', 'i', 'j', 'k', 'l', 'm', 'n', 'o', 'p', 'q', 'r', 's', 't', 'u', 'v', 'w', 'x', 'y', 'z', '|', '~']\n"
          ]
        }
      ]
    },
    {
      "cell_type": "code",
      "source": [
        "def returnClasses(string):\n",
        "    text = list(string)\n",
        "    text = [\"<SPACE>\"] + [\"<SPACE>\" if x==\" \" else x for x in text] + [\"<SPACE>\"]\n",
        "    classes = [data.index(x) if x in data else 2 for x in text]\n",
        "    classes = np.asarray(classes)\n",
        "    return classes"
      ],
      "metadata": {
        "id": "wpGB-7KxL-cv"
      },
      "execution_count": 6,
      "outputs": []
    },
    {
      "cell_type": "code",
      "source": [
        "infile=pd.read_csv(\"Data/Train.csv\")"
      ],
      "metadata": {
        "id": "b2Dd6XJxPsy_"
      },
      "execution_count": 7,
      "outputs": []
    },
    {
      "cell_type": "code",
      "source": [
        "returnClasses(infile['Annotation'][0])"
      ],
      "metadata": {
        "colab": {
          "base_uri": "https://localhost:8080/"
        },
        "id": "VGuu1U5PPBgF",
        "outputId": "b4db7202-f76e-4efa-f40e-d81eb5b53370"
      },
      "execution_count": 8,
      "outputs": [
        {
          "output_type": "execute_result",
          "data": {
            "text/plain": [
              "array([ 0, 32,  0, 44, 46, 53, 36,  0, 81, 76,  0, 80, 81, 76, 77,  0, 44,\n",
              "       79, 15,  0, 38, 62, 70, 81, 80, 72, 66, 73, 73,  0, 67, 79, 76, 74,\n",
              "        0])"
            ]
          },
          "metadata": {},
          "execution_count": 8
        }
      ]
    },
    {
      "cell_type": "code",
      "source": [
        "def find_max_width(path):\n",
        "    infile = pd.read_csv(path)\n",
        "    max_width = 0\n",
        "    for record in range(0, len(infile)):\n",
        "        path = infile[\"Path\"][record]\n",
        "\n",
        "        image = cv2.imread(path, cv2.IMREAD_GRAYSCALE)\n",
        "\n",
        "        h, w = np.shape(image)\n",
        "\n",
        "        if (h > window_height):\n",
        "          factor = window_height/h\n",
        "        elif (h<= window_height):\n",
        "          factor=window_height/h\n",
        "\n",
        "\n",
        "\n",
        "        image = cv2.resize(image, None, fx=factor, fy=factor, interpolation = cv2.INTER_CUBIC)\n",
        "        h, w = np.shape(image)\n",
        "\n",
        "        if w / window_width < math.ceil(w / window_width):\n",
        "            padding = np.full((window_height, math.ceil(w / window_width) * 64 - w), 255)\n",
        "            image = np.append(image, padding, axis = 1)\n",
        "\n",
        "        h, w = np.shape(image)\n",
        "        if w > max_width: max_width = w\n",
        "    return(max_width)"
      ],
      "metadata": {
        "id": "Pu4e6XVPMgZF"
      },
      "execution_count": 9,
      "outputs": []
    },
    {
      "cell_type": "code",
      "source": [
        "max_width=find_max_width(\"Data/Train.csv\")"
      ],
      "metadata": {
        "id": "CdqTafS2MjgL"
      },
      "execution_count": 10,
      "outputs": []
    },
    {
      "cell_type": "code",
      "source": [
        "max_width"
      ],
      "metadata": {
        "colab": {
          "base_uri": "https://localhost:8080/"
        },
        "id": "t_xbQZGgMrAJ",
        "outputId": "3c7d9d66-31b1-4bf3-fb02-7abf9e3ebcc0"
      },
      "execution_count": 11,
      "outputs": [
        {
          "output_type": "execute_result",
          "data": {
            "text/plain": [
              "2048"
            ]
          },
          "metadata": {},
          "execution_count": 11
        }
      ]
    },
    {
      "cell_type": "code",
      "source": [
        "def prepare_data(file):\n",
        "  x_train = []\n",
        "  x_train_len=[]\n",
        "  y_train=[]\n",
        "  y_train_len=[]\n",
        "  for index, row in file.iterrows():\n",
        "\n",
        "    image_path = row['Path']\n",
        "    annotation= row['Annotation']\n",
        "    #print(annotation)\n",
        "\n",
        "    image = cv2.imread(image_path, cv2.IMREAD_GRAYSCALE)\n",
        "    h, w = image.shape\n",
        "\n",
        "    if (h > window_height):\n",
        "        factor = window_height/h\n",
        "    elif (h<= window_height):\n",
        "        factor=window_height/h\n",
        "\n",
        "\n",
        "\n",
        "    image = cv2.resize(image, None, fx=factor, fy=factor, interpolation = cv2.INTER_CUBIC)\n",
        "    h, w = np.shape(image)\n",
        "\n",
        "    h, w = image.shape\n",
        "    x_train_len.append(np.array(w))\n",
        "\n",
        "    if w < max_width:\n",
        "        padding = np.full((window_height, max_width-w), 255)\n",
        "        image = np.concatenate((image, padding), axis=1)\n",
        "\n",
        "    h, w = image.shape\n",
        "\n",
        "    n_frames = int((max_width-window_width)/4)+1\n",
        "    frames = []\n",
        "\n",
        "    for i in range(n_frames):\n",
        "        start_pix = i*strides\n",
        "        end_pix = start_pix + window_width\n",
        "        frame = image[:,start_pix:end_pix]\n",
        "        frame = cv2.resize(frame, (window_width, window_height))\n",
        "        frame = np.expand_dims(frame, axis=-1)\n",
        "        frames.append(frame)\n",
        "    x_train.append(np.array(frames))\n",
        "    y_train.append(returnClasses(annotation))\n",
        "    #print(y_train)\n",
        "    y_train_len=np.array([len(y_train[i]) for i in range(len(y_train))])\n",
        "    y_train_pad=pad_sequences(y_train,padding='post',value=float(len(data)),dtype='float32')\n",
        "\n",
        "\n",
        "  x_train = np.array(x_train)\n",
        "  x_train_len=np.array(x_train_len)\n",
        "  return x_train,y_train_pad,x_train_len,y_train_len"
      ],
      "metadata": {
        "id": "AyFFzzduelFv"
      },
      "execution_count": 12,
      "outputs": []
    },
    {
      "cell_type": "code",
      "source": [
        "x_train,y_train,x_train_len,y_train_len=prepare_data(infile)"
      ],
      "metadata": {
        "id": "16Mer69HwFh8"
      },
      "execution_count": 13,
      "outputs": []
    },
    {
      "cell_type": "code",
      "source": [
        "import matplotlib.pyplot as plt"
      ],
      "metadata": {
        "id": "-0q8cgmwaAHJ"
      },
      "execution_count": 14,
      "outputs": []
    },
    {
      "cell_type": "code",
      "source": [
        "plt.imshow(x_train[0][290])"
      ],
      "metadata": {
        "colab": {
          "base_uri": "https://localhost:8080/",
          "height": 449
        },
        "id": "CNZBrrNvaN68",
        "outputId": "a6dedf62-63cc-4eda-a91d-e46a56af0866"
      },
      "execution_count": 15,
      "outputs": [
        {
          "output_type": "execute_result",
          "data": {
            "text/plain": [
              "<matplotlib.image.AxesImage at 0x7cb277c75960>"
            ]
          },
          "metadata": {},
          "execution_count": 15
        },
        {
          "output_type": "display_data",
          "data": {
            "text/plain": [
              "<Figure size 640x480 with 1 Axes>"
            ],
            "image/png": "[encoded data removed]"
          },
          "metadata": {}
        }
      ]
    },
    {
      "cell_type": "code",
      "source": [
        "x_train.shape"
      ],
      "metadata": {
        "colab": {
          "base_uri": "https://localhost:8080/"
        },
        "id": "9RjpUCCiMy_3",
        "outputId": "4246fdd9-6676-4b69-c9aa-f2ac0cb3c2c0"
      },
      "execution_count": 16,
      "outputs": [
        {
          "output_type": "execute_result",
          "data": {
            "text/plain": [
              "(200, 497, 64, 64, 1)"
            ]
          },
          "metadata": {},
          "execution_count": 16
        }
      ]
    },
    {
      "cell_type": "code",
      "source": [
        "x_train_len.shape"
      ],
      "metadata": {
        "colab": {
          "base_uri": "https://localhost:8080/"
        },
        "id": "s7S4KdDBSqwg",
        "outputId": "df422c25-d642-4f02-edbc-60c127b4ffc7"
      },
      "execution_count": 17,
      "outputs": [
        {
          "output_type": "execute_result",
          "data": {
            "text/plain": [
              "(200,)"
            ]
          },
          "metadata": {},
          "execution_count": 17
        }
      ]
    },
    {
      "cell_type": "code",
      "source": [
        "y_train.shape"
      ],
      "metadata": {
        "colab": {
          "base_uri": "https://localhost:8080/"
        },
        "id": "8ohfQp661F3Q",
        "outputId": "e361e77b-10c5-49fb-eb56-01cc321e8626"
      },
      "execution_count": 18,
      "outputs": [
        {
          "output_type": "execute_result",
          "data": {
            "text/plain": [
              "(200, 67)"
            ]
          },
          "metadata": {},
          "execution_count": 18
        }
      ]
    },
    {
      "cell_type": "code",
      "source": [
        "y_train_len.shape"
      ],
      "metadata": {
        "colab": {
          "base_uri": "https://localhost:8080/"
        },
        "id": "RdX3udd-SXE1",
        "outputId": "8c2685dd-a174-412b-8a8f-0c8f2a549b02"
      },
      "execution_count": 19,
      "outputs": [
        {
          "output_type": "execute_result",
          "data": {
            "text/plain": [
              "(200,)"
            ]
          },
          "metadata": {},
          "execution_count": 19
        }
      ]
    },
    {
      "cell_type": "code",
      "source": [
        "val_infile=pd.read_csv(\"Data/Validation.csv\")\n",
        "val_infile"
      ],
      "metadata": {
        "colab": {
          "base_uri": "https://localhost:8080/",
          "height": 520
        },
        "id": "v9GtVivB4ItN",
        "outputId": "0df6a263-8094-4e64-8f94-49f79b899392"
      },
      "execution_count": 20,
      "outputs": [
        {
          "output_type": "execute_result",
          "data": {
            "text/plain": [
              "                                   Path  \\\n",
              "0   Data/Images/Test/R06-137-S00-00.PNG   \n",
              "1   Data/Images/Test/R06-137-S00-01.PNG   \n",
              "2   Data/Images/Test/R06-137-S00-02.PNG   \n",
              "3   Data/Images/Test/R06-137-S00-03.PNG   \n",
              "4   Data/Images/Test/R06-137-S00-04.PNG   \n",
              "5   Data/Images/Test/R06-137-S01-00.PNG   \n",
              "6   Data/Images/Test/R06-137-S01-01.PNG   \n",
              "7   Data/Images/Test/R06-137-S02-00.PNG   \n",
              "8   Data/Images/Test/R06-137-S02-01.PNG   \n",
              "9   Data/Images/Test/R06-137-S02-02.PNG   \n",
              "10  Data/Images/Test/R06-137-S03-00.PNG   \n",
              "11  Data/Images/Test/R06-137-S04-00.PNG   \n",
              "12  Data/Images/Test/R06-137-S04-01.PNG   \n",
              "13  Data/Images/Test/R06-137-S04-02.PNG   \n",
              "14  Data/Images/Test/R06-137-S04-03.PNG   \n",
              "\n",
              "                                       Annotation  \n",
              "0                The doorman turned his attention  \n",
              "1           to the next red-eyed emerger from the  \n",
              "2                dark; and we went an together to  \n",
              "3        the shakian, the children silent because  \n",
              "4                    of the cruelty of the world.  \n",
              "5                               Finally Catherine  \n",
              "6                       said, her eyes wet again:  \n",
              "7                                ll think its all  \n",
              "8   absolutely beastly, and I can't bear to think  \n",
              "9                                      about it.'  \n",
              "10                               And Philip said:  \n",
              "11                                  But we've got  \n",
              "12      to think about it, don't you see, because  \n",
              "13     if we don't it'll just go on and on, don't  \n",
              "14                                      you see?'  "
            ],
            "text/html": [
              "\n",
              "  <div id=\"df-87d412d4-aafe-4c46-b8ba-ee282ff2bf81\" class=\"colab-df-container\">\n",
              "    <div>\n",
              "<style scoped>\n",
              "    .dataframe tbody tr th:only-of-type {\n",
              "        vertical-align: middle;\n",
              "    }\n",
              "\n",
              "    .dataframe tbody tr th {\n",
              "        vertical-align: top;\n",
              "    }\n",
              "\n",
              "    .dataframe thead th {\n",
              "        text-align: right;\n",
              "    }\n",
              "</style>\n",
              "<table border=\"1\" class=\"dataframe\">\n",
              "  <thead>\n",
              "    <tr style=\"text-align: right;\">\n",
              "      <th></th>\n",
              "      <th>Path</th>\n",
              "      <th>Annotation</th>\n",
              "    </tr>\n",
              "  </thead>\n",
              "  <tbody>\n",
              "    <tr>\n",
              "      <th>0</th>\n",
              "      <td>Data/Images/Test/R06-137-S00-00.PNG</td>\n",
              "      <td>The doorman turned his attention</td>\n",
              "    </tr>\n",
              "    <tr>\n",
              "      <th>1</th>\n",
              "      <td>Data/Images/Test/R06-137-S00-01.PNG</td>\n",
              "      <td>to the next red-eyed emerger from the</td>\n",
              "    </tr>\n",
              "    <tr>\n",
              "      <th>2</th>\n",
              "      <td>Data/Images/Test/R06-137-S00-02.PNG</td>\n",
              "      <td>dark; and we went an together to</td>\n",
              "    </tr>\n",
              "    <tr>\n",
              "      <th>3</th>\n",
              "      <td>Data/Images/Test/R06-137-S00-03.PNG</td>\n",
              "      <td>the shakian, the children silent because</td>\n",
              "    </tr>\n",
              "    <tr>\n",
              "      <th>4</th>\n",
              "      <td>Data/Images/Test/R06-137-S00-04.PNG</td>\n",
              "      <td>of the cruelty of the world.</td>\n",
              "    </tr>\n",
              "    <tr>\n",
              "      <th>5</th>\n",
              "      <td>Data/Images/Test/R06-137-S01-00.PNG</td>\n",
              "      <td>Finally Catherine</td>\n",
              "    </tr>\n",
              "    <tr>\n",
              "      <th>6</th>\n",
              "      <td>Data/Images/Test/R06-137-S01-01.PNG</td>\n",
              "      <td>said, her eyes wet again:</td>\n",
              "    </tr>\n",
              "    <tr>\n",
              "      <th>7</th>\n",
              "      <td>Data/Images/Test/R06-137-S02-00.PNG</td>\n",
              "      <td>ll think its all</td>\n",
              "    </tr>\n",
              "    <tr>\n",
              "      <th>8</th>\n",
              "      <td>Data/Images/Test/R06-137-S02-01.PNG</td>\n",
              "      <td>absolutely beastly, and I can't bear to think</td>\n",
              "    </tr>\n",
              "    <tr>\n",
              "      <th>9</th>\n",
              "      <td>Data/Images/Test/R06-137-S02-02.PNG</td>\n",
              "      <td>about it.'</td>\n",
              "    </tr>\n",
              "    <tr>\n",
              "      <th>10</th>\n",
              "      <td>Data/Images/Test/R06-137-S03-00.PNG</td>\n",
              "      <td>And Philip said:</td>\n",
              "    </tr>\n",
              "    <tr>\n",
              "      <th>11</th>\n",
              "      <td>Data/Images/Test/R06-137-S04-00.PNG</td>\n",
              "      <td>But we've got</td>\n",
              "    </tr>\n",
              "    <tr>\n",
              "      <th>12</th>\n",
              "      <td>Data/Images/Test/R06-137-S04-01.PNG</td>\n",
              "      <td>to think about it, don't you see, because</td>\n",
              "    </tr>\n",
              "    <tr>\n",
              "      <th>13</th>\n",
              "      <td>Data/Images/Test/R06-137-S04-02.PNG</td>\n",
              "      <td>if we don't it'll just go on and on, don't</td>\n",
              "    </tr>\n",
              "    <tr>\n",
              "      <th>14</th>\n",
              "      <td>Data/Images/Test/R06-137-S04-03.PNG</td>\n",
              "      <td>you see?'</td>\n",
              "    </tr>\n",
              "  </tbody>\n",
              "</table>\n",
              "</div>\n",
              "    <div class=\"colab-df-buttons\">\n",
              "\n",
              "  <div class=\"colab-df-container\">\n",
              "    <button class=\"colab-df-convert\" onclick=\"convertToInteractive('df-87d412d4-aafe-4c46-b8ba-ee282ff2bf81')\"\n",
              "            title=\"Convert this dataframe to an interactive table.\"\n",
              "            style=\"display:none;\">\n",
              "\n",
              "  <svg xmlns=\"http://www.w3.org/2000/svg\" height=\"24px\" viewBox=\"0 -960 960 960\">\n",
              "    <path d=\"M120-120v-720h720v720H120Zm60-500h600v-160H180v160Zm220 220h160v-160H400v160Zm0 220h160v-160H400v160ZM180-400h160v-160H180v160Zm440 0h160v-160H620v160ZM180-180h160v-160H180v160Zm440 0h160v-160H620v160Z\"/>\n",
              "  </svg>\n",
              "    </button>\n",
              "\n",
              "  <style>\n",
              "    .colab-df-container {\n",
              "      display:flex;\n",
              "      gap: 12px;\n",
              "    }\n",
              "\n",
              "    .colab-df-convert {\n",
              "      background-color: #E8F0FE;\n",
              "      border: none;\n",
              "      border-radius: 50%;\n",
              "      cursor: pointer;\n",
              "      display: none;\n",
              "      fill: #1967D2;\n",
              "      height: 32px;\n",
              "      padding: 0 0 0 0;\n",
              "      width: 32px;\n",
              "    }\n",
              "\n",
              "    .colab-df-convert:hover {\n",
              "      background-color: #E2EBFA;\n",
              "      box-shadow: 0px 1px 2px rgba(60, 64, 67, 0.3), 0px 1px 3px 1px rgba(60, 64, 67, 0.15);\n",
              "      fill: #174EA6;\n",
              "    }\n",
              "\n",
              "    .colab-df-buttons div {\n",
              "      margin-bottom: 4px;\n",
              "    }\n",
              "\n",
              "    [theme=dark] .colab-df-convert {\n",
              "      background-color: #3B4455;\n",
              "      fill: #D2E3FC;\n",
              "    }\n",
              "\n",
              "    [theme=dark] .colab-df-convert:hover {\n",
              "      background-color: #434B5C;\n",
              "      box-shadow: 0px 1px 3px 1px rgba(0, 0, 0, 0.15);\n",
              "      filter: drop-shadow(0px 1px 2px rgba(0, 0, 0, 0.3));\n",
              "      fill: #FFFFFF;\n",
              "    }\n",
              "  </style>\n",
              "\n",
              "    <script>\n",
              "      const buttonEl =\n",
              "        document.querySelector('#df-87d412d4-aafe-4c46-b8ba-ee282ff2bf81 button.colab-df-convert');\n",
              "      buttonEl.style.display =\n",
              "        google.colab.kernel.accessAllowed ? 'block' : 'none';\n",
              "\n",
              "      async function convertToInteractive(key) {\n",
              "        const element = document.querySelector('#df-87d412d4-aafe-4c46-b8ba-ee282ff2bf81');\n",
              "        const dataTable =\n",
              "          await google.colab.kernel.invokeFunction('convertToInteractive',\n",
              "                                                    [key], {});\n",
              "        if (!dataTable) return;\n",
              "\n",
              "        const docLinkHtml = 'Like what you see? Visit the ' +\n",
              "          '<a target=\"_blank\" href=https://colab.research.google.com/notebooks/data_table.ipynb>data table notebook</a>'\n",
              "          + ' to learn more about interactive tables.';\n",
              "        element.innerHTML = '';\n",
              "        dataTable['output_type'] = 'display_data';\n",
              "        await google.colab.output.renderOutput(dataTable, element);\n",
              "        const docLink = document.createElement('div');\n",
              "        docLink.innerHTML = docLinkHtml;\n",
              "        element.appendChild(docLink);\n",
              "      }\n",
              "    </script>\n",
              "  </div>\n",
              "\n",
              "\n",
              "<div id=\"df-cf15c170-f17b-42b2-bf9c-f9df37fb535c\">\n",
              "  <button class=\"colab-df-quickchart\" onclick=\"quickchart('df-cf15c170-f17b-42b2-bf9c-f9df37fb535c')\"\n",
              "            title=\"Suggest charts.\"\n",
              "            style=\"display:none;\">\n",
              "\n",
              "<svg xmlns=\"http://www.w3.org/2000/svg\" height=\"24px\"viewBox=\"0 0 24 24\"\n",
              "     width=\"24px\">\n",
              "    <g>\n",
              "        <path d=\"M19 3H5c-1.1 0-2 .9-2 2v14c0 1.1.9 2 2 2h14c1.1 0 2-.9 2-2V5c0-1.1-.9-2-2-2zM9 17H7v-7h2v7zm4 0h-2V7h2v10zm4 0h-2v-4h2v4z\"/>\n",
              "    </g>\n",
              "</svg>\n",
              "  </button>\n",
              "\n",
              "<style>\n",
              "  .colab-df-quickchart {\n",
              "      --bg-color: #E8F0FE;\n",
              "      --fill-color: #1967D2;\n",
              "      --hover-bg-color: #E2EBFA;\n",
              "      --hover-fill-color: #174EA6;\n",
              "      --disabled-fill-color: #AAA;\n",
              "      --disabled-bg-color: #DDD;\n",
              "  }\n",
              "\n",
              "  [theme=dark] .colab-df-quickchart {\n",
              "      --bg-color: #3B4455;\n",
              "      --fill-color: #D2E3FC;\n",
              "      --hover-bg-color: #434B5C;\n",
              "      --hover-fill-color: #FFFFFF;\n",
              "      --disabled-bg-color: #3B4455;\n",
              "      --disabled-fill-color: #666;\n",
              "  }\n",
              "\n",
              "  .colab-df-quickchart {\n",
              "    background-color: var(--bg-color);\n",
              "    border: none;\n",
              "    border-radius: 50%;\n",
              "    cursor: pointer;\n",
              "    display: none;\n",
              "    fill: var(--fill-color);\n",
              "    height: 32px;\n",
              "    padding: 0;\n",
              "    width: 32px;\n",
              "  }\n",
              "\n",
              "  .colab-df-quickchart:hover {\n",
              "    background-color: var(--hover-bg-color);\n",
              "    box-shadow: 0 1px 2px rgba(60, 64, 67, 0.3), 0 1px 3px 1px rgba(60, 64, 67, 0.15);\n",
              "    fill: var(--button-hover-fill-color);\n",
              "  }\n",
              "\n",
              "  .colab-df-quickchart-complete:disabled,\n",
              "  .colab-df-quickchart-complete:disabled:hover {\n",
              "    background-color: var(--disabled-bg-color);\n",
              "    fill: var(--disabled-fill-color);\n",
              "    box-shadow: none;\n",
              "  }\n",
              "\n",
              "  .colab-df-spinner {\n",
              "    border: 2px solid var(--fill-color);\n",
              "    border-color: transparent;\n",
              "    border-bottom-color: var(--fill-color);\n",
              "    animation:\n",
              "      spin 1s steps(1) infinite;\n",
              "  }\n",
              "\n",
              "  @keyframes spin {\n",
              "    0% {\n",
              "      border-color: transparent;\n",
              "      border-bottom-color: var(--fill-color);\n",
              "      border-left-color: var(--fill-color);\n",
              "    }\n",
              "    20% {\n",
              "      border-color: transparent;\n",
              "      border-left-color: var(--fill-color);\n",
              "      border-top-color: var(--fill-color);\n",
              "    }\n",
              "    30% {\n",
              "      border-color: transparent;\n",
              "      border-left-color: var(--fill-color);\n",
              "      border-top-color: var(--fill-color);\n",
              "      border-right-color: var(--fill-color);\n",
              "    }\n",
              "    40% {\n",
              "      border-color: transparent;\n",
              "      border-right-color: var(--fill-color);\n",
              "      border-top-color: var(--fill-color);\n",
              "    }\n",
              "    60% {\n",
              "      border-color: transparent;\n",
              "      border-right-color: var(--fill-color);\n",
              "    }\n",
              "    80% {\n",
              "      border-color: transparent;\n",
              "      border-right-color: var(--fill-color);\n",
              "      border-bottom-color: var(--fill-color);\n",
              "    }\n",
              "    90% {\n",
              "      border-color: transparent;\n",
              "      border-bottom-color: var(--fill-color);\n",
              "    }\n",
              "  }\n",
              "</style>\n",
              "\n",
              "  <script>\n",
              "    async function quickchart(key) {\n",
              "      const quickchartButtonEl =\n",
              "        document.querySelector('#' + key + ' button');\n",
              "      quickchartButtonEl.disabled = true;  // To prevent multiple clicks.\n",
              "      quickchartButtonEl.classList.add('colab-df-spinner');\n",
              "      try {\n",
              "        const charts = await google.colab.kernel.invokeFunction(\n",
              "            'suggestCharts', [key], {});\n",
              "      } catch (error) {\n",
              "        console.error('Error during call to suggestCharts:', error);\n",
              "      }\n",
              "      quickchartButtonEl.classList.remove('colab-df-spinner');\n",
              "      quickchartButtonEl.classList.add('colab-df-quickchart-complete');\n",
              "    }\n",
              "    (() => {\n",
              "      let quickchartButtonEl =\n",
              "        document.querySelector('#df-cf15c170-f17b-42b2-bf9c-f9df37fb535c button');\n",
              "      quickchartButtonEl.style.display =\n",
              "        google.colab.kernel.accessAllowed ? 'block' : 'none';\n",
              "    })();\n",
              "  </script>\n",
              "</div>\n",
              "    </div>\n",
              "  </div>\n"
            ]
          },
          "metadata": {},
          "execution_count": 20
        }
      ]
    },
    {
      "cell_type": "code",
      "source": [
        "x_val,y_val,x_val_len,y_val_len=prepare_data(val_infile)"
      ],
      "metadata": {
        "id": "w-LGsMgj4h99"
      },
      "execution_count": 21,
      "outputs": []
    },
    {
      "cell_type": "code",
      "source": [
        "x_val.shape"
      ],
      "metadata": {
        "colab": {
          "base_uri": "https://localhost:8080/"
        },
        "id": "igly57Sa4qvl",
        "outputId": "cc65a26c-2367-4f8f-d0ca-cf7530b58777"
      },
      "execution_count": 22,
      "outputs": [
        {
          "output_type": "execute_result",
          "data": {
            "text/plain": [
              "(15, 497, 64, 64, 1)"
            ]
          },
          "metadata": {},
          "execution_count": 22
        }
      ]
    },
    {
      "cell_type": "code",
      "source": [
        "y_val.shape"
      ],
      "metadata": {
        "colab": {
          "base_uri": "https://localhost:8080/"
        },
        "id": "RHNP_6kW57np",
        "outputId": "921f0ddd-f73b-47fa-cfea-db116892484b"
      },
      "execution_count": 23,
      "outputs": [
        {
          "output_type": "execute_result",
          "data": {
            "text/plain": [
              "(15, 47)"
            ]
          },
          "metadata": {},
          "execution_count": 23
        }
      ]
    },
    {
      "cell_type": "code",
      "source": [
        "x_val_len.shape"
      ],
      "metadata": {
        "colab": {
          "base_uri": "https://localhost:8080/"
        },
        "id": "rLHTG9E25_Ad",
        "outputId": "23f4e86a-9fae-4131-e2ec-7358adf42a96"
      },
      "execution_count": 24,
      "outputs": [
        {
          "output_type": "execute_result",
          "data": {
            "text/plain": [
              "(15,)"
            ]
          },
          "metadata": {},
          "execution_count": 24
        }
      ]
    },
    {
      "cell_type": "code",
      "source": [
        "y_val_len.shape"
      ],
      "metadata": {
        "colab": {
          "base_uri": "https://localhost:8080/"
        },
        "id": "pJGk3tA06C-k",
        "outputId": "d1afb0ed-67b0-4ec5-eaf8-c09de8796fdd"
      },
      "execution_count": 25,
      "outputs": [
        {
          "output_type": "execute_result",
          "data": {
            "text/plain": [
              "(15,)"
            ]
          },
          "metadata": {},
          "execution_count": 25
        }
      ]
    },
    {
      "cell_type": "code",
      "source": [
        "plt.imshow(x_val[0][350])"
      ],
      "metadata": {
        "colab": {
          "base_uri": "https://localhost:8080/",
          "height": 449
        },
        "id": "hGVbuvzCdQLF",
        "outputId": "69fefa97-8ec9-4507-9aab-3109b82799c5"
      },
      "execution_count": 26,
      "outputs": [
        {
          "output_type": "execute_result",
          "data": {
            "text/plain": [
              "<matplotlib.image.AxesImage at 0x7cb2758ddb10>"
            ]
          },
          "metadata": {},
          "execution_count": 26
        },
        {
          "output_type": "display_data",
          "data": {
            "text/plain": [
              "<Figure size 640x480 with 1 Axes>"
            ],
            "image/png": "[encoded data removed]"
          },
          "metadata": {}
        }
      ]
    },
    {
      "cell_type": "code",
      "source": [
        "import keras\n",
        "from keras.layers import BatchNormalization,Dense,LSTM,Flatten,MaxPooling2D,Conv2D,AvgPool2D,Dropout,Input,Lambda,Activation,Bidirectional,TimeDistributed\n",
        "import keras.backend as K\n",
        "from keras.optimizers import SGD\n",
        "from keras.models import Model\n",
        "from keras.optimizers.legacy import SGD\n",
        "import pandas as pd\n",
        "import numpy as np"
      ],
      "metadata": {
        "id": "F3-8mDVISoqE"
      },
      "execution_count": 27,
      "outputs": []
    },
    {
      "cell_type": "code",
      "source": [
        "x_train.shape[1:]"
      ],
      "metadata": {
        "colab": {
          "base_uri": "https://localhost:8080/"
        },
        "id": "i39Y2zFSbt9y",
        "outputId": "3ff2e847-fba4-4a35-bbe3-4ecd98c167db"
      },
      "execution_count": 28,
      "outputs": [
        {
          "output_type": "execute_result",
          "data": {
            "text/plain": [
              "(497, 64, 64, 1)"
            ]
          },
          "metadata": {},
          "execution_count": 28
        }
      ]
    },
    {
      "cell_type": "code",
      "source": [
        "input_data=Input(shape=x_train.shape[1:],name=\"input\")\n",
        "Conv_1=TimeDistributed(Conv2D(64,kernel_size=(1,1),activation='relu',kernel_initializer='he_normal'),name=\"Conv_1.0\")(input_data)\n",
        "BN=TimeDistributed(BatchNormalization(),name=\"BN1\")(Conv_1)\n",
        "Conv_1=TimeDistributed(Conv2D(64,kernel_size=(1,1),activation='relu',kernel_initializer='he_normal'),name=\"Conv_1.1\")(BN)\n",
        "BN=TimeDistributed(BatchNormalization(),name=\"BN2\")(Conv_1)\n",
        "Max_Pool_1=TimeDistributed(MaxPooling2D(pool_size=(2,2)),name=\"Max_pool_1\")(BN)\n",
        "\n",
        "Conv_2=TimeDistributed(Conv2D(128,kernel_size=(1,1),activation='relu',kernel_initializer='he_normal'),name='Conv_2')(Max_Pool_1)\n",
        "BN=TimeDistributed(BatchNormalization(),name=\"BN3\")(Conv_2)\n",
        "Conv_2=TimeDistributed(Conv2D(128,kernel_size=(1,1),activation='relu',kernel_initializer='he_normal'),name='Conv_2.1')(BN)\n",
        "BN=TimeDistributed(BatchNormalization(),name=\"BN4\")(Conv_2)\n",
        "Max_pool_2=TimeDistributed(MaxPooling2D(pool_size=(2,2)),name=\"Max_pool_2\")(BN)\n",
        "\n",
        "Conv_3=TimeDistributed(Conv2D(256,kernel_size=(1,1),activation='relu',kernel_initializer='he_normal'),name='Conv_3.0')(Max_pool_2)\n",
        "BN=TimeDistributed(BatchNormalization(),name=\"BN5\")(Conv_3)\n",
        "Conv_3=TimeDistributed(Conv2D(256,kernel_size=(1,1),activation='relu',kernel_initializer='he_normal'),name='Conv_3.1')(BN)\n",
        "BN=TimeDistributed(BatchNormalization(),name=\"BN6\")(Conv_3)\n",
        "Conv_3=TimeDistributed(Conv2D(256,kernel_size=(1,1),activation='relu',kernel_initializer='he_normal'),name='Conv_3.2')(BN)\n",
        "BN=TimeDistributed(BatchNormalization(),name=\"BN7\")(Conv_3)\n",
        "Max_pool_3=TimeDistributed(MaxPooling2D(pool_size=(2,2)),name=\"Max_pool_3\")(BN)\n",
        "\n",
        "Conv_4=TimeDistributed(Conv2D(512,kernel_size=(1,1),activation='relu',kernel_initializer='he_normal'),name='Conv_4.0')(Max_pool_3)\n",
        "BN=TimeDistributed(BatchNormalization(),name=\"BN8\")(Conv_4)\n",
        "Conv_4=TimeDistributed(Conv2D(512,kernel_size=(1,1),activation='relu',kernel_initializer='he_normal'),name=\"Conv_4.1\")(BN)\n",
        "BN=TimeDistributed(BatchNormalization(),name=\"BN9\")(Conv_4)\n",
        "Conv_4=TimeDistributed(Conv2D(512,kernel_size=(1,1),activation='relu',kernel_initializer='he_normal'),name=\"Conv_4.2\")(BN)\n",
        "BN=TimeDistributed(BatchNormalization(),name=\"BN10\")(Conv_4)\n",
        "Max_pool_4=TimeDistributed(MaxPooling2D(pool_size=(2,2)),name=\"Max_pool_4\")(BN)\n",
        "\n",
        "Conv_5=TimeDistributed(Conv2D(512,kernel_size=(1,1),activation='relu',kernel_initializer='he_normal'),name=\"Conv_5.0\")(Max_pool_4)\n",
        "BN=TimeDistributed(BatchNormalization(),name=\"BN11\")(Conv_5)\n",
        "Conv_5=TimeDistributed(Conv2D(512,kernel_size=(1,1),activation='relu',kernel_initializer='he_normal'),name=\"Conv_5.1\")(BN)\n",
        "BN=TimeDistributed(BatchNormalization(),name=\"BN12\")(Conv_5)\n",
        "Conv_5=TimeDistributed(Conv2D(512,kernel_size=(1,1),activation='relu',kernel_initializer='he_normal'),name=\"Conv_5.2\")(BN)\n",
        "BN=TimeDistributed(BatchNormalization(),name=\"BN13\")(Conv_5)\n",
        "Max_pool_5=TimeDistributed(MaxPooling2D(pool_size=(2,2)),name=\"Max_Pool_5\")(BN)\n",
        "\n",
        "flatten=TimeDistributed(Flatten(),name=\"flatten\")(Max_pool_5)\n",
        "\n",
        "dense = TimeDistributed(Dense(128), name = \"dense\")(flatten)\n",
        "\n",
        "lstm1=Bidirectional(LSTM(256,dropout=0.25,return_sequences=True),name=\"Bilstm1\")(dense)\n",
        "lstm2=Bidirectional(LSTM(256,dropout=0.25,return_sequences=True),name=\"Bilstm2\")(lstm1)\n",
        "lstm3=Bidirectional(LSTM(256,dropout=0.25,return_sequences=True),name=\"Bilstm3\")(lstm2)\n",
        "\n",
        "y_pred=TimeDistributed(Dense(len(data)+1,activation='softmax'),name=\"output\")(lstm3)\n",
        "\n",
        "\n",
        "\n",
        "\n",
        "\n",
        "\n",
        "\n",
        "\n",
        "\n"
      ],
      "metadata": {
        "id": "qGSHIq6-gR3l"
      },
      "execution_count": 29,
      "outputs": []
    },
    {
      "cell_type": "code",
      "source": [
        "def ctc_loss(args):\n",
        "    y_pred, labels, input_length, label_length = args\n",
        "    return K.ctc_batch_cost(labels, y_pred, input_length, label_length)"
      ],
      "metadata": {
        "id": "PbYqIHhR_1VK"
      },
      "execution_count": 30,
      "outputs": []
    },
    {
      "cell_type": "code",
      "source": [
        "y_train.shape[1]"
      ],
      "metadata": {
        "colab": {
          "base_uri": "https://localhost:8080/"
        },
        "id": "o54TUGOu9mmo",
        "outputId": "b92d6725-0cea-48b6-c17c-a617f7bc531e"
      },
      "execution_count": 31,
      "outputs": [
        {
          "output_type": "execute_result",
          "data": {
            "text/plain": [
              "67"
            ]
          },
          "metadata": {},
          "execution_count": 31
        }
      ]
    },
    {
      "cell_type": "code",
      "source": [
        "#labels = Input(shape=[y_train.shape[1]], dtype='float32')\n",
        "labels = Input(shape=[47], dtype='float32')\n",
        "input_length = Input(shape=[1], dtype='int64')\n",
        "label_length = Input(shape=[1], dtype='int64')\n",
        "# Keras doesn't currently support loss funcs with extra parameters\n",
        "# so CTC loss is implemented in a lambda layer\n",
        "output = Lambda(ctc_loss, output_shape=(1,),name='ctc')([y_pred, labels, input_length, label_length])\n",
        "\n",
        "# clipnorm seems to speeds up convergence\n",
        "sgd = SGD(learning_rate=0.02, decay=1e-6, momentum=0.9, nesterov=True, clipnorm=5)\n"
      ],
      "metadata": {
        "id": "JEpY0Ehg9cD4"
      },
      "execution_count": 32,
      "outputs": []
    },
    {
      "cell_type": "code",
      "source": [
        "model=Model(inputs=[input_data,labels,input_length,label_length],outputs=output)"
      ],
      "metadata": {
        "id": "VFDZ9PSSBGJ7"
      },
      "execution_count": 33,
      "outputs": []
    },
    {
      "cell_type": "code",
      "source": [
        "model.summary()"
      ],
      "metadata": {
        "colab": {
          "base_uri": "https://localhost:8080/"
        },
        "id": "-Vd6CNoYBJl4",
        "outputId": "b1b15400-3077-46f2-a391-45f7c063d1c1"
      },
      "execution_count": 34,
      "outputs": [
        {
          "output_type": "stream",
          "name": "stdout",
          "text": [
            "Model: \"model\"\n",
            "__________________________________________________________________________________________________\n",
            " Layer (type)                Output Shape                 Param #   Connected to                  \n",
            "==================================================================================================\n",
            " input (InputLayer)          [(None, 497, 64, 64, 1)]     0         []                            \n",
            "                                                                                                  \n",
            " Conv_1.0 (TimeDistributed)  (None, 497, 64, 64, 64)      128       ['input[0][0]']               \n",
            "                                                                                                  \n",
            " BN1 (TimeDistributed)       (None, 497, 64, 64, 64)      256       ['Conv_1.0[0][0]']            \n",
            "                                                                                                  \n",
            " Conv_1.1 (TimeDistributed)  (None, 497, 64, 64, 64)      4160      ['BN1[0][0]']                 \n",
            "                                                                                                  \n",
            " BN2 (TimeDistributed)       (None, 497, 64, 64, 64)      256       ['Conv_1.1[0][0]']            \n",
            "                                                                                                  \n",
            " Max_pool_1 (TimeDistribute  (None, 497, 32, 32, 64)      0         ['BN2[0][0]']                 \n",
            " d)                                                                                               \n",
            "                                                                                                  \n",
            " Conv_2 (TimeDistributed)    (None, 497, 32, 32, 128)     8320      ['Max_pool_1[0][0]']          \n",
            "                                                                                                  \n",
            " BN3 (TimeDistributed)       (None, 497, 32, 32, 128)     512       ['Conv_2[0][0]']              \n",
            "                                                                                                  \n",
            " Conv_2.1 (TimeDistributed)  (None, 497, 32, 32, 128)     16512     ['BN3[0][0]']                 \n",
            "                                                                                                  \n",
            " BN4 (TimeDistributed)       (None, 497, 32, 32, 128)     512       ['Conv_2.1[0][0]']            \n",
            "                                                                                                  \n",
            " Max_pool_2 (TimeDistribute  (None, 497, 16, 16, 128)     0         ['BN4[0][0]']                 \n",
            " d)                                                                                               \n",
            "                                                                                                  \n",
            " Conv_3.0 (TimeDistributed)  (None, 497, 16, 16, 256)     33024     ['Max_pool_2[0][0]']          \n",
            "                                                                                                  \n",
            " BN5 (TimeDistributed)       (None, 497, 16, 16, 256)     1024      ['Conv_3.0[0][0]']            \n",
            "                                                                                                  \n",
            " Conv_3.1 (TimeDistributed)  (None, 497, 16, 16, 256)     65792     ['BN5[0][0]']                 \n",
            "                                                                                                  \n",
            " BN6 (TimeDistributed)       (None, 497, 16, 16, 256)     1024      ['Conv_3.1[0][0]']            \n",
            "                                                                                                  \n",
            " Conv_3.2 (TimeDistributed)  (None, 497, 16, 16, 256)     65792     ['BN6[0][0]']                 \n",
            "                                                                                                  \n",
            " BN7 (TimeDistributed)       (None, 497, 16, 16, 256)     1024      ['Conv_3.2[0][0]']            \n",
            "                                                                                                  \n",
            " Max_pool_3 (TimeDistribute  (None, 497, 8, 8, 256)       0         ['BN7[0][0]']                 \n",
            " d)                                                                                               \n",
            "                                                                                                  \n",
            " Conv_4.0 (TimeDistributed)  (None, 497, 8, 8, 512)       131584    ['Max_pool_3[0][0]']          \n",
            "                                                                                                  \n",
            " BN8 (TimeDistributed)       (None, 497, 8, 8, 512)       2048      ['Conv_4.0[0][0]']            \n",
            "                                                                                                  \n",
            " Conv_4.1 (TimeDistributed)  (None, 497, 8, 8, 512)       262656    ['BN8[0][0]']                 \n",
            "                                                                                                  \n",
            " BN9 (TimeDistributed)       (None, 497, 8, 8, 512)       2048      ['Conv_4.1[0][0]']            \n",
            "                                                                                                  \n",
            " Conv_4.2 (TimeDistributed)  (None, 497, 8, 8, 512)       262656    ['BN9[0][0]']                 \n",
            "                                                                                                  \n",
            " BN10 (TimeDistributed)      (None, 497, 8, 8, 512)       2048      ['Conv_4.2[0][0]']            \n",
            "                                                                                                  \n",
            " Max_pool_4 (TimeDistribute  (None, 497, 4, 4, 512)       0         ['BN10[0][0]']                \n",
            " d)                                                                                               \n",
            "                                                                                                  \n",
            " Conv_5.0 (TimeDistributed)  (None, 497, 4, 4, 512)       262656    ['Max_pool_4[0][0]']          \n",
            "                                                                                                  \n",
            " BN11 (TimeDistributed)      (None, 497, 4, 4, 512)       2048      ['Conv_5.0[0][0]']            \n",
            "                                                                                                  \n",
            " Conv_5.1 (TimeDistributed)  (None, 497, 4, 4, 512)       262656    ['BN11[0][0]']                \n",
            "                                                                                                  \n",
            " BN12 (TimeDistributed)      (None, 497, 4, 4, 512)       2048      ['Conv_5.1[0][0]']            \n",
            "                                                                                                  \n",
            " Conv_5.2 (TimeDistributed)  (None, 497, 4, 4, 512)       262656    ['BN12[0][0]']                \n",
            "                                                                                                  \n",
            " BN13 (TimeDistributed)      (None, 497, 4, 4, 512)       2048      ['Conv_5.2[0][0]']            \n",
            "                                                                                                  \n",
            " Max_Pool_5 (TimeDistribute  (None, 497, 2, 2, 512)       0         ['BN13[0][0]']                \n",
            " d)                                                                                               \n",
            "                                                                                                  \n",
            " flatten (TimeDistributed)   (None, 497, 2048)            0         ['Max_Pool_5[0][0]']          \n",
            "                                                                                                  \n",
            " dense (TimeDistributed)     (None, 497, 128)             262272    ['flatten[0][0]']             \n",
            "                                                                                                  \n",
            " Bilstm1 (Bidirectional)     (None, 497, 512)             788480    ['dense[0][0]']               \n",
            "                                                                                                  \n",
            " Bilstm2 (Bidirectional)     (None, 497, 512)             1574912   ['Bilstm1[0][0]']             \n",
            "                                                                                                  \n",
            " Bilstm3 (Bidirectional)     (None, 497, 512)             1574912   ['Bilstm2[0][0]']             \n",
            "                                                                                                  \n",
            " output (TimeDistributed)    (None, 497, 91)              46683     ['Bilstm3[0][0]']             \n",
            "                                                                                                  \n",
            " input_1 (InputLayer)        [(None, 47)]                 0         []                            \n",
            "                                                                                                  \n",
            " input_2 (InputLayer)        [(None, 1)]                  0         []                            \n",
            "                                                                                                  \n",
            " input_3 (InputLayer)        [(None, 1)]                  0         []                            \n",
            "                                                                                                  \n",
            " ctc (Lambda)                (None, 1)                    0         ['output[0][0]',              \n",
            "                                                                     'input_1[0][0]',             \n",
            "                                                                     'input_2[0][0]',             \n",
            "                                                                     'input_3[0][0]']             \n",
            "                                                                                                  \n",
            "==================================================================================================\n",
            "Total params: 5902747 (22.52 MB)\n",
            "Trainable params: 5894299 (22.48 MB)\n",
            "Non-trainable params: 8448 (33.00 KB)\n",
            "__________________________________________________________________________________________________\n"
          ]
        }
      ]
    },
    {
      "cell_type": "code",
      "source": [
        "model.compile(loss={'ctc': lambda y_true, y_pred: y_pred}, optimizer=sgd)"
      ],
      "metadata": {
        "id": "tPDTzVZ59tTB"
      },
      "execution_count": 35,
      "outputs": []
    },
    {
      "cell_type": "code",
      "source": [
        "outputs = {'ctc': np.zeros([200])}"
      ],
      "metadata": {
        "id": "183bb8tn_vYw"
      },
      "execution_count": 36,
      "outputs": []
    },
    {
      "cell_type": "code",
      "source": [
        "outputs"
      ],
      "metadata": {
        "colab": {
          "base_uri": "https://localhost:8080/"
        },
        "id": "_IYaz0bXAUQu",
        "outputId": "4455eead-6fc7-43b2-ae5b-a827bd9a7416"
      },
      "execution_count": 37,
      "outputs": [
        {
          "output_type": "execute_result",
          "data": {
            "text/plain": [
              "{'ctc': array([0., 0., 0., 0., 0., 0., 0., 0., 0., 0., 0., 0., 0., 0., 0., 0., 0.,\n",
              "        0., 0., 0., 0., 0., 0., 0., 0., 0., 0., 0., 0., 0., 0., 0., 0., 0.,\n",
              "        0., 0., 0., 0., 0., 0., 0., 0., 0., 0., 0., 0., 0., 0., 0., 0., 0.,\n",
              "        0., 0., 0., 0., 0., 0., 0., 0., 0., 0., 0., 0., 0., 0., 0., 0., 0.,\n",
              "        0., 0., 0., 0., 0., 0., 0., 0., 0., 0., 0., 0., 0., 0., 0., 0., 0.,\n",
              "        0., 0., 0., 0., 0., 0., 0., 0., 0., 0., 0., 0., 0., 0., 0., 0., 0.,\n",
              "        0., 0., 0., 0., 0., 0., 0., 0., 0., 0., 0., 0., 0., 0., 0., 0., 0.,\n",
              "        0., 0., 0., 0., 0., 0., 0., 0., 0., 0., 0., 0., 0., 0., 0., 0., 0.,\n",
              "        0., 0., 0., 0., 0., 0., 0., 0., 0., 0., 0., 0., 0., 0., 0., 0., 0.,\n",
              "        0., 0., 0., 0., 0., 0., 0., 0., 0., 0., 0., 0., 0., 0., 0., 0., 0.,\n",
              "        0., 0., 0., 0., 0., 0., 0., 0., 0., 0., 0., 0., 0., 0., 0., 0., 0.,\n",
              "        0., 0., 0., 0., 0., 0., 0., 0., 0., 0., 0., 0., 0.])}"
            ]
          },
          "metadata": {},
          "execution_count": 37
        }
      ]
    },
    {
      "cell_type": "code",
      "source": [
        "y_val.shape"
      ],
      "metadata": {
        "colab": {
          "base_uri": "https://localhost:8080/"
        },
        "id": "ADW5O_9kEahY",
        "outputId": "2cbb254c-5b7f-4b16-c10f-d90d984c3b22"
      },
      "execution_count": 38,
      "outputs": [
        {
          "output_type": "execute_result",
          "data": {
            "text/plain": [
              "(15, 47)"
            ]
          },
          "metadata": {},
          "execution_count": 38
        }
      ]
    },
    {
      "cell_type": "code",
      "source": [
        "pad_width = ((0, 0), (0, 67-y_val.shape[1]))\n",
        "pad_width"
      ],
      "metadata": {
        "colab": {
          "base_uri": "https://localhost:8080/"
        },
        "id": "StaU6gCFEenC",
        "outputId": "734c3ed2-49d8-42d7-f183-36a51bddf995"
      },
      "execution_count": 39,
      "outputs": [
        {
          "output_type": "execute_result",
          "data": {
            "text/plain": [
              "((0, 0), (0, 20))"
            ]
          },
          "metadata": {},
          "execution_count": 39
        }
      ]
    },
    {
      "cell_type": "code",
      "source": [
        "\n",
        "pad_width = ((0, 0), (0, 67-y_val.shape[1])) # tuple of (before, after) for each axis\n",
        "y_val_padded = np.pad(y_val, pad_width=pad_width, mode='constant', constant_values=0)\n",
        "\n",
        "print(y_val_padded.shape)"
      ],
      "metadata": {
        "colab": {
          "base_uri": "https://localhost:8080/"
        },
        "id": "scqp3ywAECKe",
        "outputId": "cea9bea1-6e6e-4e15-c276-fb6b1e6e906f"
      },
      "execution_count": 40,
      "outputs": [
        {
          "output_type": "stream",
          "name": "stdout",
          "text": [
            "(15, 67)\n"
          ]
        }
      ]
    },
    {
      "cell_type": "code",
      "source": [
        "y_val.shape"
      ],
      "metadata": {
        "colab": {
          "base_uri": "https://localhost:8080/"
        },
        "id": "IOI8zCS-F_2F",
        "outputId": "90d78707-5f10-4deb-f4f5-6747bbbfb5f2"
      },
      "execution_count": 41,
      "outputs": [
        {
          "output_type": "execute_result",
          "data": {
            "text/plain": [
              "(15, 47)"
            ]
          },
          "metadata": {},
          "execution_count": 41
        }
      ]
    },
    {
      "cell_type": "code",
      "source": [
        "#model.fit(x=[x_train,y_train,x_train_len,y_train_len],y=outputs,validation_data=(x_val,y_val_padded),epochs=100,batch_size=10,verbose=1)"
      ],
      "metadata": {
        "id": "Sy4FwHNlAXH_"
      },
      "execution_count": 42,
      "outputs": []
    },
    {
      "cell_type": "code",
      "source": [
        "{'ctc': np.zeros([15])}"
      ],
      "metadata": {
        "colab": {
          "base_uri": "https://localhost:8080/"
        },
        "id": "vXH61nM0JoJG",
        "outputId": "3b7b9655-ac49-415e-dad0-80a618d07678"
      },
      "execution_count": 43,
      "outputs": [
        {
          "output_type": "execute_result",
          "data": {
            "text/plain": [
              "{'ctc': array([0., 0., 0., 0., 0., 0., 0., 0., 0., 0., 0., 0., 0., 0., 0.])}"
            ]
          },
          "metadata": {},
          "execution_count": 43
        }
      ]
    },
    {
      "cell_type": "code",
      "source": [
        "model.fit(x=[x_val,y_val,x_val_len,y_val_len],y={'ctc': np.zeros([15])},batch_size=5,verbose=1,epochs=100)"
      ],
      "metadata": {
        "colab": {
          "base_uri": "https://localhost:8080/"
        },
        "id": "IiZtMbltA70w",
        "outputId": "192b633e-81e1-47d1-b676-f8f457284f8a"
      },
      "execution_count": null,
      "outputs": [
        {
          "output_type": "stream",
          "name": "stdout",
          "text": [
            "Epoch 1/100\n"
          ]
        }
      ]
    },
    {
      "cell_type": "code",
      "source": [],
      "metadata": {
        "id": "bnIlmSJWHup7"
      },
      "execution_count": null,
      "outputs": []
    }
  ]
}